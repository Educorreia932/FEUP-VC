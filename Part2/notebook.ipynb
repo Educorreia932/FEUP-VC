{
 "cells": [
  {
   "cell_type": "markdown",
   "metadata": {},
   "source": [
    "# Traffic sign detection and classification (with deep learning)"
   ]
  },
  {
   "cell_type": "code",
   "execution_count": null,
   "metadata": {},
   "outputs": [],
   "source": [
    "import cv2 as cv\n",
    "import os\n",
    "from tqdm import tqdm\n",
    "import random\n",
    "import numpy as np\n",
    "import matplotlib.pyplot as plt\n",
    "import torch\n",
    "import torch.nn as nn\n",
    "import torch.nn.functional as F\n",
    "from torchvision import models\n",
    "from torch.utils.data import Dataset, DataLoader\n",
    "import albumentations as A\n",
    "from albumentations.pytorch import ToTensorV2\n",
    "from torchinfo import summary\n",
    "import torchmetrics\n",
    "from sklearn.metrics import accuracy_score\n",
    "import xml.etree.ElementTree as ET"
   ]
  },
  {
   "cell_type": "code",
   "execution_count": null,
   "metadata": {},
   "outputs": [],
   "source": [
    "def displayImage(image, title=\"\"):\n",
    "    if (len(image.shape) == 3):\n",
    "        cmap = None\n",
    "\n",
    "    else:\n",
    "        cmap = \"gray\"\n",
    "        \n",
    "    plt.rcParams['figure.figsize'] = [10, 10]\n",
    "    plt.figure()\n",
    "    plt.title(title)\n",
    "    plt.imshow(image, cmap=cmap)\n",
    "    plt.axis('off')\n",
    "    plt.show()"
   ]
  },
  {
   "cell_type": "markdown",
   "metadata": {},
   "source": [
    "## Data preparation"
   ]
  },
  {
   "cell_type": "code",
   "execution_count": null,
   "metadata": {},
   "outputs": [],
   "source": [
    "# Get train and validation datasets\n",
    "images_directory = \"../dataset/images\"\n",
    "annotations_directory = \"../dataset/annotations\"\n",
    "\n",
    "with open(\"train.txt\") as train:\n",
    "    train_images_filenames = sorted(train.read().splitlines())\n",
    "\n",
    "with open(\"test.txt\") as test:\n",
    "    val_images_filenames = sorted(test.read().splitlines())\n",
    "\n",
    "# Filter out images that can not be loaded properly\n",
    "train_images_filenames = [i for i in train_images_filenames if cv.imread(os.path.join(images_directory, i + \".png\")) is not None]\n",
    "val_images_filenames = [i for i in val_images_filenames if cv.imread(os.path.join(images_directory, i + \".png\")) is not None]\n",
    "\n",
    "random.seed(42)\n",
    "random.shuffle(train_images_filenames)\n",
    "random.shuffle(val_images_filenames)\n",
    "\n",
    "print(len(train_images_filenames), len(val_images_filenames))"
   ]
  },
  {
   "cell_type": "markdown",
   "metadata": {},
   "source": [
    "## Dataset class"
   ]
  },
  {
   "cell_type": "code",
   "execution_count": null,
   "metadata": {},
   "outputs": [],
   "source": [
    "classes = {\n",
    "    \"trafficlight\": 0,\n",
    "    \"stop\": 1,\n",
    "    \"speedlimit\": 2,\n",
    "    \"crosswalk\": 3,\n",
    "}\n",
    "\n",
    "class TrafficSignDataset(Dataset):\n",
    "    def __init__(self, annotations_directory, images_filenames, images_directory, transform=None):\n",
    "        self.annotations_directory = annotations_directory\n",
    "        self.images_filenames = images_filenames\n",
    "        self.images_directory = images_directory\n",
    "        self.transform = transform\n",
    "\n",
    "    def __len__(self):\n",
    "        return len(self.images_filenames)\n",
    "\n",
    "    def __getitem__(self, idx):\n",
    "        image_filename = self.images_filenames[idx]\n",
    "        image = cv.imread(os.path.join(\n",
    "            self.images_directory, image_filename + \".png\"))\n",
    "        image = cv.cvtColor(image, cv.COLOR_BGR2RGB)\n",
    "\n",
    "        # transform image into 0-1 range\n",
    "        # note that the ToTensorV2 method from the albumentations library does not automatically convert the image range into 0-1\n",
    "        image = image / 255.\n",
    "\n",
    "        if self.transform is not None:\n",
    "            transformed = self.transform(image=image)\n",
    "            image = transformed[\"image\"]\n",
    "\n",
    "        return image.float(), self._get_max_area_class_from_annotion(image_filename)\n",
    "\n",
    "    def _get_max_area_class_from_annotion(self, filename):\n",
    "        with open(os.path.join(self.annotations_directory, filename + \".xml\")) as xml:\n",
    "            tree = ET.parse(xml)\n",
    "            root = tree.getroot()\n",
    "\n",
    "            max_area_class = \"trafficlight\"\n",
    "            max_area = -1\n",
    "\n",
    "            objects = root.findall(\"object\")\n",
    "            for object in objects:\n",
    "                xmin = int(object.find(\"bndbox/xmin\").text)\n",
    "                ymin = int(object.find(\"bndbox/ymin\").text)\n",
    "                xmax = int(object.find(\"bndbox/xmax\").text)\n",
    "                ymax = int(object.find(\"bndbox/ymax\").text)\n",
    "\n",
    "                area = (xmax - xmin) * (ymax - ymin)\n",
    "\n",
    "                if area > max_area:\n",
    "                    max_area = area\n",
    "                    max_area_class = object.find(\"name\").text\n",
    "\n",
    "        return classes[max_area_class]"
   ]
  },
  {
   "cell_type": "markdown",
   "metadata": {},
   "source": [
    "## Load data"
   ]
  },
  {
   "cell_type": "code",
   "execution_count": null,
   "metadata": {},
   "outputs": [],
   "source": [
    "batch_size = 10\n",
    "num_workers = 0 # How many processes are used to load the data\n",
    "\n",
    "train_transform = A.Compose(\n",
    "    [\n",
    "        A.Resize(256, 256),\n",
    "        ToTensorV2(),\n",
    "    ]\n",
    ")\n",
    "train_dataset = TrafficSignDataset(annotations_directory, train_images_filenames, images_directory, transform=train_transform)\n",
    "train_dataloader = DataLoader(train_dataset, batch_size=batch_size, shuffle=True, num_workers=num_workers, drop_last=True)\n",
    "\n",
    "\n",
    "val_transform = A.Compose(\n",
    "    [A.Resize(256, 256), ToTensorV2()]\n",
    ")\n",
    "val_dataset = TrafficSignDataset(annotations_directory, val_images_filenames, images_directory, transform=val_transform)\n",
    "val_dataloader = DataLoader(val_dataset, batch_size=batch_size, shuffle=False, num_workers=num_workers, drop_last=False)\n",
    "\n",
    "index = 10\n",
    "print(train_images_filenames[index])\n",
    "# displayImage(train_dataset[index][0])\n",
    "print(train_dataset[index][1])"
   ]
  },
  {
   "cell_type": "markdown",
   "metadata": {},
   "source": [
    "## Train the model"
   ]
  },
  {
   "cell_type": "code",
   "execution_count": null,
   "metadata": {},
   "outputs": [],
   "source": [
    "num_classes = 4\n",
    "\n",
    "# Get CPU or GPU device for training\n",
    "device = \"cuda\" if torch.cuda.is_available() else \"cpu\"\n",
    "print(f\"Using {device} device\")\n",
    "\n",
    "def epoch_iter(dataloader, model, loss_fn, optimizer=None, is_train=True):\n",
    "    if is_train:\n",
    "        assert optimizer is not None, \"When training, please provide an optimizer.\"\n",
    "\n",
    "    num_batches = len(dataloader)\n",
    "\n",
    "    if is_train:\n",
    "        model.train()  # put model in train mode\n",
    "        \n",
    "    else:\n",
    "        model.eval()\n",
    "\n",
    "    total_loss = 0.0\n",
    "    preds = []\n",
    "    labels = []\n",
    "\n",
    "    with torch.set_grad_enabled(is_train):\n",
    "        for batch, (X, y) in enumerate(tqdm(dataloader)):\n",
    "            X, y = X.to(device), y.to(device)\n",
    "\n",
    "            # Compute prediction error\n",
    "            pred = model(X)\n",
    "            loss = loss_fn(pred, y)\n",
    "\n",
    "            if is_train:\n",
    "                # Backpropagation\n",
    "                optimizer.zero_grad()\n",
    "                loss.backward()\n",
    "                optimizer.step()\n",
    "\n",
    "            # Save training metrics\n",
    "            # IMPORTANT: call .item() to obtain the value of the loss WITHOUT the computational graph attached\n",
    "            total_loss += loss.item()\n",
    "\n",
    "            probs = F.softmax(pred, dim=1)\n",
    "            final_pred = torch.argmax(probs, dim=1)\n",
    "            preds.extend(final_pred.cpu().numpy())\n",
    "            labels.extend(y.cpu().numpy())\n",
    "\n",
    "    return total_loss / num_batches, accuracy_score(labels, preds)"
   ]
  },
  {
   "cell_type": "code",
   "execution_count": null,
   "metadata": {},
   "outputs": [],
   "source": [
    "def train(model, model_name, num_epochs, train_dataloader, validation_dataloader, loss_fn, optimizer):\n",
    "    train_history = {'loss': [], 'accuracy': []}\n",
    "    val_history = {'loss': [], 'accuracy': []}\n",
    "    best_val_loss = np.inf\n",
    "    print(\"Start training...\")\n",
    "\n",
    "    for t in range(num_epochs):\n",
    "        print(f\"\\nEpoch {t+1}\")\n",
    "\n",
    "        train_loss, train_acc = epoch_iter(train_dataloader, model, loss_fn, optimizer)\n",
    "\n",
    "        print(f\"Train loss: {train_loss:.3f} \\t Train acc: {train_acc:.3f}\")\n",
    "\n",
    "        val_loss, val_acc = epoch_iter(validation_dataloader, model, loss_fn, is_train=False)\n",
    "        print(f\"Val loss: {val_loss:.3f} \\t Val acc: {val_acc:.3f}\")\n",
    "\n",
    "        # Save model when validation loss improves\n",
    "        if val_loss < best_val_loss:\n",
    "            best_val_loss = val_loss\n",
    "            save_dict = {'model': model.state_dict(\n",
    "            ), 'optimizer': optimizer.state_dict(), 'epoch': t}\n",
    "            torch.save(save_dict, model_name + '_best_model.pth')\n",
    "\n",
    "        # Save latest model\n",
    "        save_dict = {\n",
    "            'model': model.state_dict(), \n",
    "            'optimizer': optimizer.state_dict(), \n",
    "            'epoch': t\n",
    "        }\n",
    "        \n",
    "        torch.save(save_dict, model_name + '_latest_model.pth')\n",
    "\n",
    "        # save training history for plotting purposes\n",
    "        train_history[\"loss\"].append(train_loss)\n",
    "        train_history[\"accuracy\"].append(train_acc)\n",
    "\n",
    "        val_history[\"loss\"].append(val_loss)\n",
    "        val_history[\"accuracy\"].append(val_acc)\n",
    "\n",
    "    print(\"Finished\")\n",
    "\n",
    "    return train_history, val_history"
   ]
  },
  {
   "cell_type": "code",
   "execution_count": null,
   "metadata": {},
   "outputs": [],
   "source": [
    "def plotTrainingHistory(train_history, val_history):\n",
    "    plt.subplot(2, 1, 1)\n",
    "    plt.title('Cross Entropy Loss')\n",
    "    plt.plot(train_history['loss'], label='train')\n",
    "    plt.plot(val_history['loss'], label='val')\n",
    "    plt.legend(loc='best')\n",
    "\n",
    "    plt.subplot(2, 1, 2)\n",
    "    plt.title('Classification Accuracy')\n",
    "    plt.plot(train_history['accuracy'], label='train')\n",
    "    plt.plot(val_history['accuracy'], label='val')\n",
    "\n",
    "    plt.tight_layout()\n",
    "    plt.legend(loc='best')\n",
    "    plt.show()"
   ]
  },
  {
   "cell_type": "markdown",
   "metadata": {},
   "source": [
    "### ResNet-50 pretrained"
   ]
  },
  {
   "cell_type": "code",
   "execution_count": null,
   "metadata": {},
   "outputs": [],
   "source": [
    "resnet = models.resnet50(pretrained=True)\n",
    "\n",
    "# change the number of neurons in the last layer to the number of classes of the problem at hand (CIFAR10 dataset)\n",
    "resnet.fc = nn.Linear(in_features=2048, out_features=num_classes, bias=True)\n",
    "\n",
    "resnet.to(device)\n",
    "print(resnet)"
   ]
  },
  {
   "cell_type": "code",
   "execution_count": null,
   "metadata": {},
   "outputs": [],
   "source": [
    "num_epochs = 50\n",
    "model_name = 'resnet50'\n",
    "\n",
    "loss_fn = nn.CrossEntropyLoss()  # already includes the Softmax activation\n",
    "optimizer_resnet = torch.optim.SGD(resnet.parameters(), lr=1e-3)\n",
    "\n",
    "resnet_train_history, resnet_val_history = train(resnet, model_name, num_epochs, train_dataloader, val_dataloader, loss_fn, optimizer_resnet)\n",
    "\n",
    "plotTrainingHistory(resnet_train_history, resnet_val_history)"
   ]
  },
  {
   "cell_type": "markdown",
   "metadata": {},
   "source": [
    "### VGG-16"
   ]
  },
  {
   "cell_type": "code",
   "execution_count": null,
   "metadata": {},
   "outputs": [],
   "source": [
    "# Load model from torchvision (with pretrained=True)\n",
    "vgg = models.vgg16(pretrained=True)\n",
    "\n",
    "# Change the number of neurons in the last layer to the number of classes of the problem at hand (CIFAR10 dataset)\n",
    "vgg.classifier[6] = nn.Linear(4096, num_classes)\n",
    "\n",
    "vgg.to(device)"
   ]
  },
  {
   "cell_type": "code",
   "execution_count": 13,
   "metadata": {},
   "outputs": [
    {
     "name": "stdout",
     "output_type": "stream",
     "text": [
      "Start training...\n",
      "\n",
      "Epoch 1\n"
     ]
    },
    {
     "name": "stderr",
     "output_type": "stream",
     "text": [
      "100%|██████████████████████████████████████████████████████████████████████████████████| 61/61 [02:12<00:00,  2.17s/it]\n"
     ]
    },
    {
     "name": "stdout",
     "output_type": "stream",
     "text": [
      "Train loss: 0.641 \t Train acc: 0.777\n"
     ]
    },
    {
     "name": "stderr",
     "output_type": "stream",
     "text": [
      "100%|██████████████████████████████████████████████████████████████████████████████████| 27/27 [00:16<00:00,  1.63it/s]\n"
     ]
    },
    {
     "name": "stdout",
     "output_type": "stream",
     "text": [
      "Val loss: 0.530 \t Val acc: 0.833\n",
      "\n",
      "Epoch 2\n"
     ]
    },
    {
     "name": "stderr",
     "output_type": "stream",
     "text": [
      "100%|██████████████████████████████████████████████████████████████████████████████████| 61/61 [02:11<00:00,  2.16s/it]\n"
     ]
    },
    {
     "name": "stdout",
     "output_type": "stream",
     "text": [
      "Train loss: 0.449 \t Train acc: 0.849\n"
     ]
    },
    {
     "name": "stderr",
     "output_type": "stream",
     "text": [
      "100%|██████████████████████████████████████████████████████████████████████████████████| 27/27 [00:16<00:00,  1.63it/s]\n"
     ]
    },
    {
     "name": "stdout",
     "output_type": "stream",
     "text": [
      "Val loss: 0.376 \t Val acc: 0.902\n",
      "\n",
      "Epoch 3\n"
     ]
    },
    {
     "name": "stderr",
     "output_type": "stream",
     "text": [
      "100%|██████████████████████████████████████████████████████████████████████████████████| 61/61 [02:12<00:00,  2.17s/it]\n"
     ]
    },
    {
     "name": "stdout",
     "output_type": "stream",
     "text": [
      "Train loss: 0.321 \t Train acc: 0.898\n"
     ]
    },
    {
     "name": "stderr",
     "output_type": "stream",
     "text": [
      "100%|██████████████████████████████████████████████████████████████████████████████████| 27/27 [00:16<00:00,  1.59it/s]\n"
     ]
    },
    {
     "name": "stdout",
     "output_type": "stream",
     "text": [
      "Val loss: 0.301 \t Val acc: 0.920\n",
      "\n",
      "Epoch 4\n"
     ]
    },
    {
     "name": "stderr",
     "output_type": "stream",
     "text": [
      "100%|██████████████████████████████████████████████████████████████████████████████████| 61/61 [02:12<00:00,  2.17s/it]\n"
     ]
    },
    {
     "name": "stdout",
     "output_type": "stream",
     "text": [
      "Train loss: 0.225 \t Train acc: 0.939\n"
     ]
    },
    {
     "name": "stderr",
     "output_type": "stream",
     "text": [
      "100%|██████████████████████████████████████████████████████████████████████████████████| 27/27 [00:17<00:00,  1.58it/s]\n"
     ]
    },
    {
     "name": "stdout",
     "output_type": "stream",
     "text": [
      "Val loss: 0.264 \t Val acc: 0.928\n",
      "\n",
      "Epoch 5\n"
     ]
    },
    {
     "name": "stderr",
     "output_type": "stream",
     "text": [
      "100%|██████████████████████████████████████████████████████████████████████████████████| 61/61 [02:11<00:00,  2.16s/it]\n"
     ]
    },
    {
     "name": "stdout",
     "output_type": "stream",
     "text": [
      "Train loss: 0.170 \t Train acc: 0.946\n"
     ]
    },
    {
     "name": "stderr",
     "output_type": "stream",
     "text": [
      "100%|██████████████████████████████████████████████████████████████████████████████████| 27/27 [00:16<00:00,  1.62it/s]\n"
     ]
    },
    {
     "name": "stdout",
     "output_type": "stream",
     "text": [
      "Val loss: 0.252 \t Val acc: 0.924\n",
      "\n",
      "Epoch 6\n"
     ]
    },
    {
     "name": "stderr",
     "output_type": "stream",
     "text": [
      "100%|██████████████████████████████████████████████████████████████████████████████████| 61/61 [02:11<00:00,  2.15s/it]\n"
     ]
    },
    {
     "name": "stdout",
     "output_type": "stream",
     "text": [
      "Train loss: 0.151 \t Train acc: 0.952\n"
     ]
    },
    {
     "name": "stderr",
     "output_type": "stream",
     "text": [
      "100%|██████████████████████████████████████████████████████████████████████████████████| 27/27 [00:16<00:00,  1.63it/s]\n"
     ]
    },
    {
     "name": "stdout",
     "output_type": "stream",
     "text": [
      "Val loss: 0.223 \t Val acc: 0.936\n",
      "\n",
      "Epoch 7\n"
     ]
    },
    {
     "name": "stderr",
     "output_type": "stream",
     "text": [
      "100%|██████████████████████████████████████████████████████████████████████████████████| 61/61 [02:12<00:00,  2.16s/it]\n"
     ]
    },
    {
     "name": "stdout",
     "output_type": "stream",
     "text": [
      "Train loss: 0.099 \t Train acc: 0.969\n"
     ]
    },
    {
     "name": "stderr",
     "output_type": "stream",
     "text": [
      "100%|██████████████████████████████████████████████████████████████████████████████████| 27/27 [00:17<00:00,  1.59it/s]\n"
     ]
    },
    {
     "name": "stdout",
     "output_type": "stream",
     "text": [
      "Val loss: 0.229 \t Val acc: 0.932\n",
      "\n",
      "Epoch 8\n"
     ]
    },
    {
     "name": "stderr",
     "output_type": "stream",
     "text": [
      "100%|██████████████████████████████████████████████████████████████████████████████████| 61/61 [02:12<00:00,  2.16s/it]\n"
     ]
    },
    {
     "name": "stdout",
     "output_type": "stream",
     "text": [
      "Train loss: 0.086 \t Train acc: 0.979\n"
     ]
    },
    {
     "name": "stderr",
     "output_type": "stream",
     "text": [
      "100%|██████████████████████████████████████████████████████████████████████████████████| 27/27 [00:16<00:00,  1.63it/s]\n"
     ]
    },
    {
     "name": "stdout",
     "output_type": "stream",
     "text": [
      "Val loss: 0.232 \t Val acc: 0.932\n",
      "\n",
      "Epoch 9\n"
     ]
    },
    {
     "name": "stderr",
     "output_type": "stream",
     "text": [
      "100%|██████████████████████████████████████████████████████████████████████████████████| 61/61 [02:12<00:00,  2.17s/it]\n"
     ]
    },
    {
     "name": "stdout",
     "output_type": "stream",
     "text": [
      "Train loss: 0.066 \t Train acc: 0.982\n"
     ]
    },
    {
     "name": "stderr",
     "output_type": "stream",
     "text": [
      "100%|██████████████████████████████████████████████████████████████████████████████████| 27/27 [00:16<00:00,  1.61it/s]\n"
     ]
    },
    {
     "name": "stdout",
     "output_type": "stream",
     "text": [
      "Val loss: 0.240 \t Val acc: 0.928\n",
      "\n",
      "Epoch 10\n"
     ]
    },
    {
     "name": "stderr",
     "output_type": "stream",
     "text": [
      "100%|██████████████████████████████████████████████████████████████████████████████████| 61/61 [02:11<00:00,  2.16s/it]\n"
     ]
    },
    {
     "name": "stdout",
     "output_type": "stream",
     "text": [
      "Train loss: 0.062 \t Train acc: 0.984\n"
     ]
    },
    {
     "name": "stderr",
     "output_type": "stream",
     "text": [
      "100%|██████████████████████████████████████████████████████████████████████████████████| 27/27 [00:16<00:00,  1.59it/s]\n"
     ]
    },
    {
     "name": "stdout",
     "output_type": "stream",
     "text": [
      "Val loss: 0.230 \t Val acc: 0.924\n",
      "Finished\n"
     ]
    },
    {
     "data": {
      "image/png": "[encoded data removed]",
      "text/plain": [
       "<Figure size 432x288 with 2 Axes>"
      ]
     },
     "metadata": {
      "needs_background": "light"
     },
     "output_type": "display_data"
    }
   ],
   "source": [
    "num_epochs = 10\n",
    "model_name = 'vgg16'\n",
    "\n",
    "loss_fn = nn.CrossEntropyLoss()\n",
    "optimizer_vgg = torch.optim.SGD(vgg.parameters(), lr=1e-3)\n",
    "\n",
    "vgg_train_history, vgg_val_history = train(vgg, model_name, num_epochs, train_dataloader, val_dataloader, loss_fn, optimizer_vgg)\n",
    "\n",
    "plotTrainingHistory(vgg_train_history, vgg_val_history)"
   ]
  }
 ],
 "metadata": {
  "kernelspec": {
   "display_name": "Python 3 (ipykernel)",
   "language": "python",
   "name": "python3"
  },
  "language_info": {
   "codemirror_mode": {
    "name": "ipython",
    "version": 3
   },
   "file_extension": ".py",
   "mimetype": "text/x-python",
   "name": "python",
   "nbconvert_exporter": "python",
   "pygments_lexer": "ipython3",
   "version": "3.10.2"
  },
  "vscode": {
   "interpreter": {
    "hash": "cd9946677ea18cd89e211de7c948dc8a1318cc7d7b55887506aa41faca795d54"
   }
  }
 },
 "nbformat": 4,
 "nbformat_minor": 2
}
